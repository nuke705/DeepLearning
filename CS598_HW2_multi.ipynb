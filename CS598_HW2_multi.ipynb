{
 "cells": [
  {
   "cell_type": "code",
   "execution_count": 1,
   "metadata": {
    "collapsed": true
   },
   "outputs": [],
   "source": [
    "# CS 598 HW2\n",
    "# Student: Zhi Ji, code is a modified version of professor Sirigano's work\n",
    "import numpy as np\n",
    "import scipy.signal\n",
    "import os\n",
    "import matplotlib.pyplot as plt\n",
    "import h5py\n",
    "import time\n",
    "import copy\n",
    "from random import randint\n",
    "\n",
    "#load MNIST dat\n",
    "MNIST_data = h5py.File('MNISTdata.hdf5', 'r')\n",
    "x_train = np.float32(MNIST_data['x_train'][:] )\n",
    "y_train = np.int32(np.array(MNIST_data['y_train'][:,0]))\n",
    "x_test = np.float32( MNIST_data['x_test'][:] )\n",
    "y_test = np.int32( np.array( MNIST_data['y_test'][:,0] ) )\n",
    "MNIST_data.close()\n",
    "#x_train = x_train.reshape((60000,28,28))\n",
    "#y_train = x_train.reshape((60000,28,28))\n",
    "#x_test = x_train.reshape((60000,28,28))\n",
    "#y_test = x_train.reshape((60000,28,28))\n",
    "\n",
    "#plt.imshow(x_train[0,], cmap=\"gray\")\n",
    "#plt.show()"
   ]
  },
  {
   "cell_type": "code",
   "execution_count": 2,
   "metadata": {
    "collapsed": true
   },
   "outputs": [],
   "source": [
    "#Implementation of stochastic gradient descent algorithm\n",
    "#number of inputs\n",
    "num_inputs = 28*28\n",
    "#number of hidden units\n",
    "num_h = 100\n",
    "#number of outputs\n",
    "num_outputs = 10\n",
    "d = 28\n",
    "kx = 3\n",
    "ky = 3\n",
    "num_channel = 5"
   ]
  },
  {
   "cell_type": "code",
   "execution_count": 3,
   "metadata": {
    "collapsed": true
   },
   "outputs": [],
   "source": [
    "#initialize parameters\n",
    "model = {}\n",
    "#model['W'] = np.random.randn(num_outputs,d - ky+1,d-kx+1)*0.01\n",
    "model['W'] = np.random.randn(num_outputs,d - ky+1,d-kx+1,num_channel)*0.01\n",
    "model['b'] = np.zeros((num_outputs,1))\n",
    "#model['k'] = np.random.randn(3,3) * 0.01\n",
    "model['k'] = np.random.randn(3,3,num_channel) * 0.01\n",
    "model_grads = copy.deepcopy(model)\n",
    "\n",
    "def conv(img, k,d,ky,kx):\n",
    "    \n",
    "    new_img = np.zeros((d - ky + 1,d - kx + 1))\n",
    "    for i in range(d - ky + 1):\n",
    "        for j in range(d - kx + 1):\n",
    "            new_img[i][j] = np.sum(img[i:i+ ky, j:j+ ky]*k)\n",
    "                \n",
    "                \n",
    "    return new_img\n"
   ]
  },
  {
   "cell_type": "code",
   "execution_count": 4,
   "metadata": {
    "collapsed": true
   },
   "outputs": [],
   "source": [
    "def softmax_function(z):\n",
    "    ZZ = np.exp(z)/np.sum(np.exp(z))\n",
    "    return ZZ\n",
    "\n",
    "def relu(z):\n",
    "    return z * (z > 0)\n",
    "\n",
    "def relu_back(z):\n",
    "    return (z>0)\n",
    "\n",
    "def sigmoid(z):\n",
    "    return np.exp(z)/(1+np.exp(z))\n",
    "\n",
    "#derivative of sigmoid\n",
    "def sigmoid_back(z):\n",
    "    s = 1/(1+np.exp(-z))\n",
    "    return s * (1-s)\n",
    "\n",
    "def forward(x,y,model):\n",
    "    \n",
    "    x = x.reshape((784,1))\n",
    "    x = x.reshape((28,28))\n",
    "    H = np.zeros((d - ky+1,d-kx+1,num_channel))\n",
    "    Z = np.zeros((d - ky+1,d-kx+1,num_channel))\n",
    "    #Z = np.dot(model['W1'], x) + model['b1']\n",
    "    #Z = conv(x,model['k'],d,ky,kx)\n",
    "    \n",
    "    for p in range(num_channel):\n",
    "        Z[:,:,p] = conv(x,model['k'][:,:,p],d, model['k'][:,:,p].shape[0], model['k'][:,:,p].shape[1])\n",
    "        #Z[:,:,p] = scipy.signal.correlate2d(x,model['k'][:,:,p],mode ='valid')\n",
    "        #print(Z[:,:,p].shape)\n",
    "        H[:,:,p] = relu(Z[:,:,p])\n",
    "   \n",
    "    H = relu(Z)\n",
    "    model['H'] = H\n",
    "    model['Z'] = Z\n",
    "    \n",
    "    Utemp = np.dot(model['W'].reshape(num_outputs,np.prod(H.shape)),\n",
    "                   H.reshape(np.prod(H.shape)))\n",
    "    U = Utemp.reshape((num_outputs,1)) + model['b']\n",
    "        \n",
    "    p = softmax_function(U)\n",
    "    return p\n",
    "    \n",
    "def backward(x,y,p, model, model_grads):\n",
    "    x = x.reshape((784,1))\n",
    "    x = x.reshape((28,28))\n",
    "    \n",
    "    dU = -1.0*p\n",
    "    dU[y] = dU[y] + 1.0\n",
    "    db = dU\n",
    "    \n",
    "    #dW = np.zeros((10,d - ky+1,d-kx+1))\n",
    "    #for k in range(10):\n",
    "    #    dW[k,:,:] = dU[k]*model['H']\n",
    "    #dw = dU* model['H']\n",
    "    #dW = np.dot(dU,model['H'])\n",
    "    delta = np.zeros((d - ky+1,d-kx+1,num_channel))\n",
    "    #for p in range(num_channel):\n",
    "    dtemp = np.dot(model['W'].reshape(num_outputs,np.prod(model['H'].shape)).T,dU)\n",
    "    dtemp = dtemp.reshape((d - ky+1,d-kx+1,num_channel))\n",
    "    delta = dtemp\n",
    "\n",
    "    H = model['H']\n",
    "    Z = model['Z']\n",
    "    #delta = np.dot(dU, model['W'].reshape(model['W'].shape[0],np.prod(H.shape))).reshape(H.shape)\n",
    "    #actv_grad = (H>0).astype(float)\n",
    "    dk = np.zeros((ky,kx,num_channel))\n",
    "    \n",
    "    for p in range(num_channel):\n",
    "        dktemp = np.multiply( relu_back(Z[:,:,p]) ,  delta[:,:,p] )\n",
    "        #print(dk[:,:,p].shape)\n",
    "        #print(dktemp.shape[0])\n",
    "        #print(x.shape)\n",
    "        dk[:,:,p] = conv(x, dktemp, d, dktemp.shape[0], dktemp.shape[1])\n",
    "        #dk[:,:,p] = scipy.signal.correlate2d(x,dktemp,mode ='valid')\n",
    "    #print(multi.shape)\n",
    "    #multi = np.multiply(delta, actv_grad)\n",
    "    #dK = conv(x,multi,d,multi.shape[0],multi.shape[1])\n",
    "    #dK = scipy.signal.correlate2d(x,multi)\n",
    "    \n",
    "    model_grads['W'] = np.dot(dU.reshape(num_outputs,1), H.reshape(np.prod(H.shape),1).T).reshape(model_grads['W'].shape)\n",
    "    \n",
    "   \n",
    "    \n",
    "    #model_grads['K'] = convolve(x,np.multiply(delta, actv_grad))\n",
    "    \n",
    "    \n",
    "    #model_grads['W'] = dW  \n",
    "    model_grads['b'] = db\n",
    "    model_grads['k'] = dk #小写\n",
    "   \n",
    "    return model_grads"
   ]
  },
  {
   "cell_type": "code",
   "execution_count": 5,
   "metadata": {
    "scrolled": true
   },
   "outputs": [
    {
     "name": "stdout",
     "output_type": "stream",
     "text": [
      "0.9230666666666667\n",
      "0.9578833333333333\n"
     ]
    },
    {
     "ename": "KeyboardInterrupt",
     "evalue": "",
     "output_type": "error",
     "traceback": [
      "\u001b[1;31m---------------------------------------------------------------------------\u001b[0m",
      "\u001b[1;31mKeyboardInterrupt\u001b[0m                         Traceback (most recent call last)",
      "\u001b[1;32m<ipython-input-5-e649c787aa68>\u001b[0m in \u001b[0;36m<module>\u001b[1;34m()\u001b[0m\n\u001b[0;32m     19\u001b[0m         \u001b[0my\u001b[0m \u001b[1;33m=\u001b[0m \u001b[0my_train\u001b[0m\u001b[1;33m[\u001b[0m\u001b[0mn_random\u001b[0m\u001b[1;33m]\u001b[0m\u001b[1;33m\u001b[0m\u001b[0m\n\u001b[0;32m     20\u001b[0m         \u001b[0mx\u001b[0m \u001b[1;33m=\u001b[0m \u001b[0mx_train\u001b[0m\u001b[1;33m[\u001b[0m\u001b[0mn_random\u001b[0m\u001b[1;33m]\u001b[0m\u001b[1;33m[\u001b[0m\u001b[1;33m:\u001b[0m\u001b[1;33m]\u001b[0m\u001b[1;33m\u001b[0m\u001b[0m\n\u001b[1;32m---> 21\u001b[1;33m         \u001b[0mp\u001b[0m \u001b[1;33m=\u001b[0m \u001b[0mforward\u001b[0m\u001b[1;33m(\u001b[0m\u001b[0mx\u001b[0m\u001b[1;33m,\u001b[0m \u001b[0my\u001b[0m\u001b[1;33m,\u001b[0m \u001b[0mmodel\u001b[0m\u001b[1;33m)\u001b[0m\u001b[1;33m\u001b[0m\u001b[0m\n\u001b[0m\u001b[0;32m     22\u001b[0m         \u001b[0mprediction\u001b[0m \u001b[1;33m=\u001b[0m \u001b[0mnp\u001b[0m\u001b[1;33m.\u001b[0m\u001b[0margmax\u001b[0m\u001b[1;33m(\u001b[0m\u001b[0mp\u001b[0m\u001b[1;33m)\u001b[0m\u001b[1;33m\u001b[0m\u001b[0m\n\u001b[0;32m     23\u001b[0m         \u001b[1;32mif\u001b[0m \u001b[1;33m(\u001b[0m\u001b[0mprediction\u001b[0m \u001b[1;33m==\u001b[0m \u001b[0my\u001b[0m\u001b[1;33m)\u001b[0m\u001b[1;33m:\u001b[0m\u001b[1;33m\u001b[0m\u001b[0m\n",
      "\u001b[1;32m<ipython-input-4-aafc4eaf5769>\u001b[0m in \u001b[0;36mforward\u001b[1;34m(x, y, model)\u001b[0m\n\u001b[0;32m     30\u001b[0m         \u001b[1;31m#Z[:,:,p] = scipy.signal.correlate2d(x,model['k'][:,:,p],mode ='valid')\u001b[0m\u001b[1;33m\u001b[0m\u001b[1;33m\u001b[0m\u001b[0m\n\u001b[0;32m     31\u001b[0m         \u001b[1;31m#print(Z[:,:,p].shape)\u001b[0m\u001b[1;33m\u001b[0m\u001b[1;33m\u001b[0m\u001b[0m\n\u001b[1;32m---> 32\u001b[1;33m         \u001b[0mH\u001b[0m\u001b[1;33m[\u001b[0m\u001b[1;33m:\u001b[0m\u001b[1;33m,\u001b[0m\u001b[1;33m:\u001b[0m\u001b[1;33m,\u001b[0m\u001b[0mp\u001b[0m\u001b[1;33m]\u001b[0m \u001b[1;33m=\u001b[0m \u001b[0mrelu\u001b[0m\u001b[1;33m(\u001b[0m\u001b[0mZ\u001b[0m\u001b[1;33m[\u001b[0m\u001b[1;33m:\u001b[0m\u001b[1;33m,\u001b[0m\u001b[1;33m:\u001b[0m\u001b[1;33m,\u001b[0m\u001b[0mp\u001b[0m\u001b[1;33m]\u001b[0m\u001b[1;33m)\u001b[0m\u001b[1;33m\u001b[0m\u001b[0m\n\u001b[0m\u001b[0;32m     33\u001b[0m \u001b[1;33m\u001b[0m\u001b[0m\n\u001b[0;32m     34\u001b[0m     \u001b[0mH\u001b[0m \u001b[1;33m=\u001b[0m \u001b[0mrelu\u001b[0m\u001b[1;33m(\u001b[0m\u001b[0mZ\u001b[0m\u001b[1;33m)\u001b[0m\u001b[1;33m\u001b[0m\u001b[0m\n",
      "\u001b[1;31mKeyboardInterrupt\u001b[0m: "
     ]
    }
   ],
   "source": [
    "#timer\n",
    "import time\n",
    "time1 = time.time()\n",
    "LR = .01\n",
    "num_epochs = 10\n",
    "\n",
    "for epochs in range(num_epochs):\n",
    "    #Learning rate schedule\n",
    "    #if (epochs > 5):\n",
    "    #    LR = 0.001\n",
    "    #if (epochs > 10):\n",
    "    #    LR = 0.0001\n",
    "    #if (epochs > 15):\n",
    "    #    LR = 0.00001\n",
    "    LR = 0.01\n",
    "    total_correct = 0\n",
    "    for n in range( len(x_train)):\n",
    "        n_random = randint(0,len(x_train)-1 )\n",
    "        y = y_train[n_random]\n",
    "        x = x_train[n_random][:]\n",
    "        p = forward(x, y, model)\n",
    "        prediction = np.argmax(p)\n",
    "        if (prediction == y):\n",
    "            total_correct += 1\n",
    "        model_grads = backward(x,y,p, model, model_grads)\n",
    "        \n",
    "        #update parameter\n",
    "        model['W'] = model['W'] + LR*model_grads['W']\n",
    "        model['b'] = model['b'] + LR*model_grads['b']\n",
    "        model['k'] = model['k'] + LR*model_grads['k']\n",
    "        #model['b2'] = model['b2'] + LR*model_grads['b2']\n",
    "        \n",
    "    print(total_correct/np.float(len(x_train) ) )\n",
    "time2 = time.time()\n",
    "print(time2-time1)"
   ]
  },
  {
   "cell_type": "code",
   "execution_count": 6,
   "metadata": {},
   "outputs": [
    {
     "name": "stdout",
     "output_type": "stream",
     "text": [
      "0.9607\n"
     ]
    }
   ],
   "source": [
    "######################################################\n",
    "#test data\n",
    "total_correct = 0\n",
    "for n in range( len(x_test)):\n",
    "    y = y_test[n]\n",
    "    x = x_test[n][:]\n",
    "    p = forward(x, y, model)\n",
    "    prediction = np.argmax(p)\n",
    "    if (prediction == y):\n",
    "        total_correct += 1\n",
    "        \n",
    "#accuracy on test set\n",
    "print(total_correct/np.float(len(x_test) ) )"
   ]
  },
  {
   "cell_type": "code",
   "execution_count": 105,
   "metadata": {},
   "outputs": [
    {
     "name": "stdout",
     "output_type": "stream",
     "text": [
      "[[4 3 4]\n",
      " [2 4 3]\n",
      " [2 3 4]]\n",
      "[[ 4.  3.  4.]\n",
      " [ 2.  4.  3.]\n",
      " [ 2.  3.  4.]]\n"
     ]
    }
   ],
   "source": [
    "#testing convolution function\n",
    "#def conv_single(x,k,i,j):\n",
    "#    out = 0\n",
    "#    for m in range(ky-1):\n",
    "#        for n in range(kx - 1):\n",
    "#            out += k[m,n]*x[i +m,j+n]\n",
    "#    return out\n",
    "\n",
    "#def conv(x,k,d,ky,kx):\n",
    "#    output = np.zeros((d-ky+1,d-kx+1))\n",
    "#    for i in range(d-ky+1):\n",
    "#        for j in range(d-kx+1):\n",
    "###            output[i,j] = conv_single(x,k,i,j)      \n",
    "#    return output\n",
    "\n",
    "#a = np.array([[1,1,1,0,0],\n",
    "#    [0,1,1,1,0],\n",
    "#    [0,0,1,1,1],\n",
    "#    [0,0,1,1,0],\n",
    "#    [0,1,1,0,0]])\n",
    "#t = np.array([[1,0,1],\n",
    "#    [0,1,0],\n",
    "#    [1,0,1]])\n",
    "\n",
    "\n",
    "\n",
    "\n",
    "#print(scipy.signal.correlate2d(a,t, mode = 'valid'))\n",
    "#print(t.shape)\n",
    "#print(conv_1(a,t))\n",
    "#print(conv(a,t,5,3,3))"
   ]
  },
  {
   "cell_type": "code",
   "execution_count": null,
   "metadata": {
    "collapsed": true
   },
   "outputs": [],
   "source": []
  },
  {
   "cell_type": "code",
   "execution_count": null,
   "metadata": {
    "collapsed": true
   },
   "outputs": [],
   "source": []
  }
 ],
 "metadata": {
  "kernelspec": {
   "display_name": "Python 3",
   "language": "python",
   "name": "python3"
  },
  "language_info": {
   "codemirror_mode": {
    "name": "ipython",
    "version": 3
   },
   "file_extension": ".py",
   "mimetype": "text/x-python",
   "name": "python",
   "nbconvert_exporter": "python",
   "pygments_lexer": "ipython3",
   "version": "3.6.3"
  }
 },
 "nbformat": 4,
 "nbformat_minor": 2
}
